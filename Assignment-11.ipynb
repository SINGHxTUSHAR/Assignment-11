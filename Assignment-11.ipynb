{
 "cells": [
  {
   "cell_type": "markdown",
   "id": "6b54279e",
   "metadata": {},
   "source": [
    "Q1. What is multiprocessing in python? Why is it useful?"
   ]
  },
  {
   "cell_type": "markdown",
   "id": "914504db",
   "metadata": {},
   "source": [
    "Multiprocessing refers to using the multiple cores of the processor for better speed and processing for the data. it is useful as it can process the huge amount of data within seconds and give us the result very fast."
   ]
  },
  {
   "cell_type": "code",
   "execution_count": null,
   "id": "7f46ac0a",
   "metadata": {},
   "outputs": [],
   "source": []
  },
  {
   "cell_type": "markdown",
   "id": "1163cd82",
   "metadata": {},
   "source": [
    "Q2. What are the differences between multiprocessing and multithreading?"
   ]
  },
  {
   "cell_type": "markdown",
   "id": "76b7795a",
   "metadata": {},
   "source": [
    "Both Multiprocessing and Multithreading are used to increase the computing power of a system.\n",
    "\n",
    "Multiprocessing is a system that has more than one or two processors. In Multiprocessing, CPUs are added for increasing computing speed of the system. Because of Multiprocessing, There are many processes are executed simultaneously.\n",
    "\n",
    "Multithreading is a system in which multiple threads are created of a process for increasing the computing speed of the system. In multithreading, many threads of a process are executed simultaneously and process creation in multithreading is done according to economical."
   ]
  },
  {
   "cell_type": "code",
   "execution_count": null,
   "id": "1e71561d",
   "metadata": {},
   "outputs": [],
   "source": []
  },
  {
   "cell_type": "markdown",
   "id": "dd1d7ac9",
   "metadata": {},
   "source": [
    "Q3. Write a python code to create a process using the multiprocessing module."
   ]
  },
  {
   "cell_type": "code",
   "execution_count": 10,
   "id": "ac950ff3",
   "metadata": {},
   "outputs": [],
   "source": [
    "# importing the multiprocessing module\n",
    "import multiprocessing\n",
    "  \n",
    "def print_cube(num):\n",
    "    \n",
    "    \"\"\"\n",
    "    function to print cube of given num\n",
    "    \"\"\"\n",
    "    print(\"Cube: {}\".format(num * num * num))"
   ]
  },
  {
   "cell_type": "code",
   "execution_count": 11,
   "id": "78ea27a6",
   "metadata": {},
   "outputs": [],
   "source": [
    "def print_square(num):\n",
    "    \n",
    "    \"\"\"\n",
    "    function to print square of given num\n",
    "    \"\"\"\n",
    "    print(\"Square: {}\".format(num * num))"
   ]
  },
  {
   "cell_type": "code",
   "execution_count": 14,
   "id": "e7087e8a",
   "metadata": {},
   "outputs": [
    {
     "name": "stdout",
     "output_type": "stream",
     "text": [
      "Done!\n"
     ]
    }
   ],
   "source": [
    "if __name__ == \"__main__\":\n",
    "    # creating processes\n",
    "    p1 = multiprocessing.Process(target=print_square, args=(5, ))\n",
    "    p2 = multiprocessing.Process(target=print_cube, args=(10, ))\n",
    "  \n",
    "    # starting process 1\n",
    "    p1.start()\n",
    "    # starting process 2\n",
    "    p2.start()\n",
    "  \n",
    "    # wait until process 1 is finished\n",
    "    p1.join()\n",
    "    # wait until process 2 is finished\n",
    "    p2.join()\n",
    "  \n",
    "    # both processes finished\n",
    "    print(\"Done!\")"
   ]
  },
  {
   "cell_type": "code",
   "execution_count": null,
   "id": "f747cbc8",
   "metadata": {},
   "outputs": [],
   "source": []
  },
  {
   "cell_type": "markdown",
   "id": "8769ad9d",
   "metadata": {},
   "source": [
    "Q4. What is a multiprocessing pool in python? Why is it used?"
   ]
  },
  {
   "cell_type": "markdown",
   "id": "1f3fa8c4",
   "metadata": {},
   "source": [
    "Python multiprocessing Pool can be used for parallel execution of a function across multiple input values, distributing the input data across processes (data parallelism)"
   ]
  },
  {
   "cell_type": "code",
   "execution_count": null,
   "id": "c2772a55",
   "metadata": {},
   "outputs": [],
   "source": [
    "import multiprocessing\n",
    "\n",
    "def square(n):\n",
    "    return n**2\n",
    "\n",
    "if __name__ == '__main__':\n",
    "    with multiprocessing.Pool(processes=4) as pool : \n",
    "        out = pool.map(square , [1,2,3,4,5,6,7,8,9])\n",
    "        print(out)"
   ]
  },
  {
   "cell_type": "code",
   "execution_count": null,
   "id": "78535cb9",
   "metadata": {},
   "outputs": [],
   "source": []
  },
  {
   "cell_type": "markdown",
   "id": "c3fd1397",
   "metadata": {},
   "source": [
    "Q5. How can we create a pool of worker processes in python using the multiprocessing module?"
   ]
  },
  {
   "cell_type": "code",
   "execution_count": null,
   "id": "09d61401",
   "metadata": {},
   "outputs": [],
   "source": [
    "import multiprocessing\n",
    "\n",
    "def worker(msg):\n",
    "    print(msg)\n",
    "\n",
    "    \n",
    "if __name__ == '__main__':\n",
    "    with multiprocessing.Pool(processes  = 2) as pool:\n",
    "        msg = pool.map(worker , \"we our workers\")\n",
    "        print(msg)"
   ]
  },
  {
   "cell_type": "code",
   "execution_count": null,
   "id": "054242f9",
   "metadata": {},
   "outputs": [],
   "source": []
  },
  {
   "cell_type": "markdown",
   "id": "7e9e0d39",
   "metadata": {},
   "source": [
    "Q6. Write a python program to create 4 processes, each process should print a different number using the\n",
    "multiprocessing module in python."
   ]
  },
  {
   "cell_type": "code",
   "execution_count": null,
   "id": "94811aec",
   "metadata": {},
   "outputs": [],
   "source": [
    "import multiprocessing\n",
    "\n",
    "def process_1(n1):\n",
    "    print(n1)\n",
    "    \n",
    "def process_2(n2):\n",
    "    print(n2)\n",
    "    \n",
    "def process_3(n3):\n",
    "    print(n3)\n",
    "\n",
    "def process_4(n4):\n",
    "    print(n4)\n",
    "    \n",
    "\n",
    "if __name__ == '__main__':\n",
    "    with multiprocessing.Pool(processes=4) as pool:\n",
    "        n1 = pool.map(process_1,[1,2,3,4])\n",
    "#         n2 = pool.map(process_2,20)\n",
    "#         n3 = pool.map(process_3,30)\n",
    "#         n4 = pool.map(process_4,40)\n",
    "        \n",
    "        n1.start()\n",
    "#         n2.start()\n",
    "#         n3.start()\n",
    "#         n4.start()\n",
    "        \n",
    "        n1.join()\n",
    "#         n2.join()\n",
    "#         n3.join()\n",
    "#         n4.join()"
   ]
  },
  {
   "cell_type": "code",
   "execution_count": null,
   "id": "2ac11f3e",
   "metadata": {},
   "outputs": [],
   "source": []
  },
  {
   "cell_type": "code",
   "execution_count": null,
   "id": "b2a98510",
   "metadata": {},
   "outputs": [],
   "source": []
  },
  {
   "cell_type": "code",
   "execution_count": null,
   "id": "7f30c7f1",
   "metadata": {},
   "outputs": [],
   "source": []
  }
 ],
 "metadata": {
  "kernelspec": {
   "display_name": "Python 3 (ipykernel)",
   "language": "python",
   "name": "python3"
  },
  "language_info": {
   "codemirror_mode": {
    "name": "ipython",
    "version": 3
   },
   "file_extension": ".py",
   "mimetype": "text/x-python",
   "name": "python",
   "nbconvert_exporter": "python",
   "pygments_lexer": "ipython3",
   "version": "3.9.12"
  }
 },
 "nbformat": 4,
 "nbformat_minor": 5
}
